{
  "nbformat": 4,
  "nbformat_minor": 0,
  "metadata": {
    "colab": {
      "provenance": []
    },
    "kernelspec": {
      "name": "python3",
      "display_name": "Python 3"
    },
    "language_info": {
      "name": "python"
    }
  },
  "cells": [
    {
      "cell_type": "code",
      "execution_count": 1,
      "metadata": {
        "colab": {
          "base_uri": "https://localhost:8080/"
        },
        "id": "QeHJuICrNr3p",
        "outputId": "092a5e38-6bc0-4d5c-f082-053c6c261a6d"
      },
      "outputs": [
        {
          "output_type": "stream",
          "name": "stdout",
          "text": [
            "Intersection of list1 and List2 is [4, 5]\n"
          ]
        }
      ],
      "source": [
        "list1 = [1, 2, 3, 4, 5]\n",
        "list2 = [4, 5, 6, 7, 8]\n",
        "\n",
        "intersection = []\n",
        "\n",
        "for i in list1:\n",
        "  if i in list2:\n",
        "    intersection.append(i)\n",
        "\n",
        "print('Intersection of list1 and List2 is',intersection)"
      ]
    },
    {
      "cell_type": "markdown",
      "source": [
        "**using set() method**"
      ],
      "metadata": {
        "id": "xqOKnr3iP0Cg"
      }
    },
    {
      "cell_type": "code",
      "source": [
        "list1 = [1, 2, 3, 4, 5]\n",
        "list2 = [4, 5, 6, 7, 8]\n",
        "\n",
        "set1 = set(list1)\n",
        "set2 = set(list2)\n",
        "\n",
        "intersec = set1.intersection(set2)\n",
        "\n",
        "print('Intersection of list1 and List2 is',list(intersec))"
      ],
      "metadata": {
        "colab": {
          "base_uri": "https://localhost:8080/"
        },
        "id": "hVexhRGAP4aZ",
        "outputId": "2e804d66-a5a3-4afb-d3c1-70dcbc8fb8e3"
      },
      "execution_count": 3,
      "outputs": [
        {
          "output_type": "stream",
          "name": "stdout",
          "text": [
            "Intersection of list1 and List2 is [4, 5]\n"
          ]
        }
      ]
    }
  ]
}